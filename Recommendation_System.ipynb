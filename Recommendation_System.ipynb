{
  "nbformat": 4,
  "nbformat_minor": 0,
  "metadata": {
    "colab": {
      "name": "Recommendation System.ipynb",
      "provenance": [],
      "collapsed_sections": [],
      "authorship_tag": "ABX9TyPE1A5m9hVeGnqzMhQGASk8",
      "include_colab_link": true
    },
    "kernelspec": {
      "name": "python3",
      "display_name": "Python 3"
    }
  },
  "cells": [
    {
      "cell_type": "markdown",
      "metadata": {
        "id": "view-in-github",
        "colab_type": "text"
      },
      "source": [
        "<a href=\"https://colab.research.google.com/github/terryliu1993/-Recommendation-System-Movie-Recommendation-Engine/blob/main/Recommendation_System.ipynb\" target=\"_parent\"><img src=\"https://colab.research.google.com/assets/colab-badge.svg\" alt=\"Open In Colab\"/></a>"
      ]
    },
    {
      "cell_type": "code",
      "metadata": {
        "colab": {
          "base_uri": "https://localhost:8080/"
        },
        "id": "Che-fQQP0AyU",
        "outputId": "d14110ac-c477-49f9-d806-20037e842c59"
      },
      "source": [
        "import pandas as pd#\n",
        "import numpy as np#\n",
        "from sklearn.model_selection import train_test_split\n",
        "from sklearn.preprocessing import StandardScaler\n",
        "import seaborn as sns\n",
        "import matplotlib.pyplot as plt\n",
        "import nltk #\n",
        "import re #\n",
        "nltk.download('punkt') #\n",
        "from nltk.stem.snowball import SnowballStemmer#\n",
        "from sklearn.feature_extraction.text import TfidfVectorizer #\n",
        "\n",
        "from sklearn.metrics.pairwise import linear_kernel #\n"
      ],
      "execution_count": 1,
      "outputs": [
        {
          "output_type": "stream",
          "text": [
            "[nltk_data] Downloading package punkt to /root/nltk_data...\n",
            "[nltk_data]   Unzipping tokenizers/punkt.zip.\n"
          ],
          "name": "stdout"
        }
      ]
    },
    {
      "cell_type": "code",
      "metadata": {
        "colab": {
          "resources": {
            "http://localhost:8080/nbextensions/google.colab/files.js": {
              "data": "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",
              "ok": true,
              "headers": [
                [
                  "content-type",
                  "application/javascript"
                ]
              ],
              "status": 200,
              "status_text": ""
            }
          },
          "base_uri": "https://localhost:8080/",
          "height": 91
        },
        "id": "njx-U0LssNfg",
        "outputId": "5eea4071-1b26-4817-d3ad-5136d3f13e3d"
      },
      "source": [
        "# use this only if you use google colab\n",
        "from google.colab import files\n",
        "uploaded = files.upload()\n",
        "for fn in uploaded.keys():\n",
        "  print('User uploaded file \"{name}\" with length {length} bytes'.format(\n",
        "      name=fn, length=len(uploaded[fn])))"
      ],
      "execution_count": 2,
      "outputs": [
        {
          "output_type": "display_data",
          "data": {
            "text/html": [
              "\n",
              "     <input type=\"file\" id=\"files-c11fbf00-9faa-41e6-b8c7-9a43c9939b9e\" name=\"files[]\" multiple disabled\n",
              "        style=\"border:none\" />\n",
              "     <output id=\"result-c11fbf00-9faa-41e6-b8c7-9a43c9939b9e\">\n",
              "      Upload widget is only available when the cell has been executed in the\n",
              "      current browser session. Please rerun this cell to enable.\n",
              "      </output>\n",
              "      <script src=\"/nbextensions/google.colab/files.js\"></script> "
            ],
            "text/plain": [
              "<IPython.core.display.HTML object>"
            ]
          },
          "metadata": {
            "tags": []
          }
        },
        {
          "output_type": "stream",
          "text": [
            "Saving wiki_movie_plots_deduped.csv to wiki_movie_plots_deduped.csv\n",
            "User uploaded file \"wiki_movie_plots_deduped.csv\" with length 81193310 bytes\n"
          ],
          "name": "stdout"
        }
      ]
    },
    {
      "cell_type": "code",
      "metadata": {
        "colab": {
          "base_uri": "https://localhost:8080/",
          "height": 569
        },
        "id": "Agh0xhoTxHXL",
        "outputId": "5b8850bc-6e17-43e9-fb9a-5f2d6a3ac28c"
      },
      "source": [
        "metadata=pd.read_csv('wiki_movie_plots_deduped.csv',header=0)\n",
        "metadata.head()"
      ],
      "execution_count": 7,
      "outputs": [
        {
          "output_type": "execute_result",
          "data": {
            "text/html": [
              "<div>\n",
              "<style scoped>\n",
              "    .dataframe tbody tr th:only-of-type {\n",
              "        vertical-align: middle;\n",
              "    }\n",
              "\n",
              "    .dataframe tbody tr th {\n",
              "        vertical-align: top;\n",
              "    }\n",
              "\n",
              "    .dataframe thead th {\n",
              "        text-align: right;\n",
              "    }\n",
              "</style>\n",
              "<table border=\"1\" class=\"dataframe\">\n",
              "  <thead>\n",
              "    <tr style=\"text-align: right;\">\n",
              "      <th></th>\n",
              "      <th>Release Year</th>\n",
              "      <th>Title</th>\n",
              "      <th>Origin/Ethnicity</th>\n",
              "      <th>Director</th>\n",
              "      <th>Cast</th>\n",
              "      <th>Genre</th>\n",
              "      <th>Wiki Page</th>\n",
              "      <th>Plot</th>\n",
              "    </tr>\n",
              "  </thead>\n",
              "  <tbody>\n",
              "    <tr>\n",
              "      <th>0</th>\n",
              "      <td>1901</td>\n",
              "      <td>Kansas Saloon Smashers</td>\n",
              "      <td>American</td>\n",
              "      <td>Unknown</td>\n",
              "      <td>NaN</td>\n",
              "      <td>unknown</td>\n",
              "      <td>https://en.wikipedia.org/wiki/Kansas_Saloon_Sm...</td>\n",
              "      <td>A bartender is working at a saloon, serving dr...</td>\n",
              "    </tr>\n",
              "    <tr>\n",
              "      <th>1</th>\n",
              "      <td>1901</td>\n",
              "      <td>Love by the Light of the Moon</td>\n",
              "      <td>American</td>\n",
              "      <td>Unknown</td>\n",
              "      <td>NaN</td>\n",
              "      <td>unknown</td>\n",
              "      <td>https://en.wikipedia.org/wiki/Love_by_the_Ligh...</td>\n",
              "      <td>The moon, painted with a smiling face hangs ov...</td>\n",
              "    </tr>\n",
              "    <tr>\n",
              "      <th>2</th>\n",
              "      <td>1901</td>\n",
              "      <td>The Martyred Presidents</td>\n",
              "      <td>American</td>\n",
              "      <td>Unknown</td>\n",
              "      <td>NaN</td>\n",
              "      <td>unknown</td>\n",
              "      <td>https://en.wikipedia.org/wiki/The_Martyred_Pre...</td>\n",
              "      <td>The film, just over a minute long, is composed...</td>\n",
              "    </tr>\n",
              "    <tr>\n",
              "      <th>3</th>\n",
              "      <td>1901</td>\n",
              "      <td>Terrible Teddy, the Grizzly King</td>\n",
              "      <td>American</td>\n",
              "      <td>Unknown</td>\n",
              "      <td>NaN</td>\n",
              "      <td>unknown</td>\n",
              "      <td>https://en.wikipedia.org/wiki/Terrible_Teddy,_...</td>\n",
              "      <td>Lasting just 61 seconds and consisting of two ...</td>\n",
              "    </tr>\n",
              "    <tr>\n",
              "      <th>4</th>\n",
              "      <td>1902</td>\n",
              "      <td>Jack and the Beanstalk</td>\n",
              "      <td>American</td>\n",
              "      <td>George S. Fleming, Edwin S. Porter</td>\n",
              "      <td>NaN</td>\n",
              "      <td>unknown</td>\n",
              "      <td>https://en.wikipedia.org/wiki/Jack_and_the_Bea...</td>\n",
              "      <td>The earliest known adaptation of the classic f...</td>\n",
              "    </tr>\n",
              "  </tbody>\n",
              "</table>\n",
              "</div>"
            ],
            "text/plain": [
              "   Release Year  ...                                               Plot\n",
              "0          1901  ...  A bartender is working at a saloon, serving dr...\n",
              "1          1901  ...  The moon, painted with a smiling face hangs ov...\n",
              "2          1901  ...  The film, just over a minute long, is composed...\n",
              "3          1901  ...  Lasting just 61 seconds and consisting of two ...\n",
              "4          1902  ...  The earliest known adaptation of the classic f...\n",
              "\n",
              "[5 rows x 8 columns]"
            ]
          },
          "metadata": {
            "tags": []
          },
          "execution_count": 7
        }
      ]
    },
    {
      "cell_type": "markdown",
      "metadata": {
        "id": "lrejO3Rklfca"
      },
      "source": [
        "# EDA"
      ]
    },
    {
      "cell_type": "markdown",
      "metadata": {
        "id": "sKZsyZ-FmYAM"
      },
      "source": [
        "First, check an overview on the size of data, table header, check missing values"
      ]
    },
    {
      "cell_type": "code",
      "metadata": {
        "colab": {
          "base_uri": "https://localhost:8080/"
        },
        "id": "BBVJ4LBgxHVV",
        "outputId": "7dbb7d66-89da-426a-b253-7024856e3bc8"
      },
      "source": [
        "print('Shape of data: ',metadata.shape)\n",
        "print(metadata.columns)\n",
        "\n",
        "print('========================')\n",
        "print(metadata.isnull().sum())\n",
        "\n",
        "print('========================')\n",
        "print(metadata.dtypes)"
      ],
      "execution_count": null,
      "outputs": [
        {
          "output_type": "stream",
          "text": [
            "Shape of data:  (34886, 8)\n",
            "Index(['Release Year', 'Title', 'Origin/Ethnicity', 'Director', 'Cast',\n",
            "       'Genre', 'Wiki Page', 'Plot'],\n",
            "      dtype='object')\n",
            "========================\n",
            "Release Year           0\n",
            "Title                  0\n",
            "Origin/Ethnicity       0\n",
            "Director               0\n",
            "Cast                1422\n",
            "Genre                  0\n",
            "Wiki Page              0\n",
            "Plot                   0\n",
            "dtype: int64\n",
            "========================\n",
            "Release Year         int64\n",
            "Title               object\n",
            "Origin/Ethnicity    object\n",
            "Director            object\n",
            "Cast                object\n",
            "Genre               object\n",
            "Wiki Page           object\n",
            "Plot                object\n",
            "dtype: object\n"
          ],
          "name": "stdout"
        }
      ]
    },
    {
      "cell_type": "markdown",
      "metadata": {
        "id": "lS0V-5MMnBoT"
      },
      "source": [
        "There are more than 10% of records with missing Cast. When we build model, it may become a noise. thus for simplicity, in this project, we delete Cast column\n",
        "\n",
        "URL address is not our interested features on NLP model in this project, thus it's dropped.\n",
        "\n",
        "Since last column Unnamed:8 is empty, we delete it, too."
      ]
    },
    {
      "cell_type": "code",
      "metadata": {
        "colab": {
          "base_uri": "https://localhost:8080/"
        },
        "id": "0K_9apmhxHSX",
        "outputId": "e8866a97-16c1-4b8a-9001-c25acc02ba2d"
      },
      "source": [
        "metadata=metadata.drop(['Wiki Page'],axis=1)\n",
        "print('New data size is ',metadata.shape)\n",
        "\n",
        "\n",
        "###or drop Cast\n",
        "# metadata=metadata.drop(['Cast','Wiki Page','Unnamed: 8'],axis=1)\n",
        "# print('New data size is ',metadata.shape)"
      ],
      "execution_count": 8,
      "outputs": [
        {
          "output_type": "stream",
          "text": [
            "New data size is  (34886, 7)\n"
          ],
          "name": "stdout"
        }
      ]
    },
    {
      "cell_type": "markdown",
      "metadata": {
        "id": "Pt6kiOdaxfIx"
      },
      "source": [
        "Find duplicate record.\n",
        "Since some movies may be remade many years later, thus we introduce a Temporary feature combining Release Year+Director+Title, to determine if this record is real duplicate."
      ]
    },
    {
      "cell_type": "code",
      "metadata": {
        "colab": {
          "base_uri": "https://localhost:8080/"
        },
        "id": "o2mz_AUSxejG",
        "outputId": "35364036-41ab-4cd8-ecb2-5d37c70d8d1b"
      },
      "source": [
        "# Find the true duplicates by Release Year+Director+Title\n",
        "metadata['Temporary']=metadata['Release Year'].astype(str)+metadata['Director'].astype(str)+metadata['Title'].astype(str)\n",
        "metadata['Temporary'].nunique()"
      ],
      "execution_count": 9,
      "outputs": [
        {
          "output_type": "execute_result",
          "data": {
            "text/plain": [
              "34886"
            ]
          },
          "metadata": {
            "tags": []
          },
          "execution_count": 9
        }
      ]
    },
    {
      "cell_type": "markdown",
      "metadata": {
        "id": "axPaN50VoAUo"
      },
      "source": [
        "Since the unique number is equal to the row number of metadata, we conclude there is no duplicate data."
      ]
    },
    {
      "cell_type": "code",
      "metadata": {
        "colab": {
          "base_uri": "https://localhost:8080/"
        },
        "id": "Fa1nzASFxHOp",
        "outputId": "0e91151e-df57-4803-e195-c30a6b059cae"
      },
      "source": [
        "metadata.Genre.value_counts()"
      ],
      "execution_count": null,
      "outputs": [
        {
          "output_type": "execute_result",
          "data": {
            "text/plain": [
              "unknown                               6083\n",
              "drama                                 5964\n",
              "comedy                                4379\n",
              "horror                                1167\n",
              "action                                1098\n",
              "                                      ... \n",
              "drama / western / crime                  1\n",
              "reincarnation drama                      1\n",
              "romance/teen                             1\n",
              "action-adventure, animated, family       1\n",
              "crime drama, superhero                   1\n",
              "Name: Genre, Length: 2265, dtype: int64"
            ]
          },
          "metadata": {
            "tags": []
          },
          "execution_count": 9
        }
      ]
    },
    {
      "cell_type": "code",
      "metadata": {
        "colab": {
          "base_uri": "https://localhost:8080/"
        },
        "id": "PViPyGzQxHL_",
        "outputId": "f60ac958-0910-4f9a-c917-5fc812106dae"
      },
      "source": [
        "# find the length of each record\n",
        "metadata['Origin/Ethnicity'].apply(lambda x:len(str(x)))\n",
        "# remove those 2 rows with wrong information (with string length>20['Origin/Ethnicity']\n",
        "metadata=metadata[metadata['Origin/Ethnicity'].apply(lambda x:len(str(x)))<20]\n",
        "print('Data size becomes: ',metadata.shape)"
      ],
      "execution_count": null,
      "outputs": [
        {
          "output_type": "stream",
          "text": [
            "Data size becomes:  (34886, 8)\n"
          ],
          "name": "stdout"
        }
      ]
    },
    {
      "cell_type": "markdown",
      "metadata": {
        "id": "dXk0TBcgtQlj"
      },
      "source": [
        "# The Recommendation Engine"
      ]
    },
    {
      "cell_type": "code",
      "metadata": {
        "id": "ycOS-SH0xHG-"
      },
      "source": [
        "# define a function to tokenize sentence, tokenize word, and stem words\n",
        "stemmer = SnowballStemmer(\"english\")\n",
        "def token_stem(doc):\n",
        "  # tokenize document into sentence, then tokenize sentence into words\n",
        "  tokens=[word for sent in nltk.sent_tokenize(doc) for word in nltk.word_tokenize(sent)]\n",
        "  # remove non-letter text\n",
        "  letter_only_tokens = [token for token in tokens if re.search('[a-zA-Z]', token)]\n",
        "  # stem the word token\n",
        "  stemmed_tokens=[stemmer.stem(word) for word in letter_only_tokens]\n",
        "  return stemmed_tokens"
      ],
      "execution_count": 10,
      "outputs": []
    },
    {
      "cell_type": "code",
      "metadata": {
        "colab": {
          "base_uri": "https://localhost:8080/"
        },
        "id": "m3k1sgUsxHC2",
        "outputId": "ceabc0ca-5e0d-4032-d766-31b793f6e3ff"
      },
      "source": [
        "# TfidfVectorizer\n",
        "tfidf=TfidfVectorizer(stop_words='english',tokenizer=token_stem,ngram_range=(1,3),decode_error='ignore')\n",
        "# generate tfidf_matrix by fit and transform on plot\n",
        "tfidf_matrix=tfidf.fit_transform([plot for plot in metadata['Plot'].astype(str)])\n",
        "print('tfidf_matrix size is: ',tfidf_matrix.shape)\n",
        "\n"
      ],
      "execution_count": 11,
      "outputs": [
        {
          "output_type": "stream",
          "text": [
            "/usr/local/lib/python3.7/dist-packages/sklearn/feature_extraction/text.py:385: UserWarning: Your stop_words may be inconsistent with your preprocessing. Tokenizing the stop words generated tokens ['abov', 'afterward', 'alon', 'alreadi', 'alway', 'ani', 'anoth', 'anyon', 'anyth', 'anywher', 'becam', 'becaus', 'becom', 'befor', 'besid', 'cri', 'describ', 'dure', 'els', 'elsewher', 'empti', 'everi', 'everyon', 'everyth', 'everywher', 'fifti', 'forti', 'henc', 'hereaft', 'herebi', 'howev', 'hundr', 'inde', 'mani', 'meanwhil', 'moreov', 'nobodi', 'noon', 'noth', 'nowher', 'onc', 'onli', 'otherwis', 'ourselv', 'perhap', 'pleas', 'sever', 'sinc', 'sincer', 'sixti', 'someon', 'someth', 'sometim', 'somewher', 'themselv', 'thenc', 'thereaft', 'therebi', 'therefor', 'togeth', 'twelv', 'twenti', 'veri', 'whatev', 'whenc', 'whenev', 'wherea', 'whereaft', 'wherebi', 'wherev', 'whi', 'yourselv'] not in stop_words.\n",
            "  'stop_words.' % sorted(inconsistent))\n"
          ],
          "name": "stderr"
        },
        {
          "output_type": "stream",
          "text": [
            "tfidf_matrix size is:  (34886, 10107563)\n"
          ],
          "name": "stdout"
        }
      ]
    },
    {
      "cell_type": "markdown",
      "metadata": {
        "id": "cyhz178DbvUE"
      },
      "source": [
        "# Cosine Similarity\n",
        "\n",
        "cosine_similarity= AB  /  ||A||||B||\n",
        "\n",
        "--numerator AB are dot product(element-wise product),retern a scaler \n",
        "\n",
        "--denominator ||A|| is magnitude :  sqrt(a1^2 + a2^2 + ... +an^2) \n",
        "\n",
        "--since denominator is the same for all pairwise cos_similarity across document, it's computational cheap to use linear_kernal to ONLY calculate numerator(dot product)"
      ]
    },
    {
      "cell_type": "code",
      "metadata": {
        "id": "T4Uq_mQlxG-2"
      },
      "source": [
        "# calculate pairwise cosine_similarity on tfidf_matrix\n",
        "cos_sim=linear_kernel(tfidf_matrix,tfidf_matrix)"
      ],
      "execution_count": null,
      "outputs": []
    },
    {
      "cell_type": "code",
      "metadata": {
        "colab": {
          "base_uri": "https://localhost:8080/",
          "height": 236
        },
        "id": "fGSADgrGxG7r",
        "outputId": "8112e6d7-5791-4e0d-8183-931185219163"
      },
      "source": [
        "# def get_recommendation(input_title,cos_sim=cos_sim):\n",
        "input_title='Forgotten'\n",
        "# find the movie in the matrix, and retrieve the entire row\n",
        "# each element in the row is pairwise cosine similarity with the input movie\n",
        "row_number=metadata[metadata['Title'] == input_title].index\n",
        "# give the entire list an index\n",
        "rankings=list(enumerate(cos_sim[row_number][0]))\n",
        "# sort the ranking in descending order\n",
        "sorted_rankings=sorted(rankings,key=lambda x:x[1],reverse=True)\n",
        "# pick the top 10 most similar movie(with largest cosine_similarity)\n",
        "# exclude the first movie itself with cosine_similarity=1\n",
        "top_10=sorted_rankings[1:11]\n",
        "movie_id=[element[0] for element in top_10]\n",
        "movie_names=[metadata.iloc[number,1] for number in movie_id]\n",
        "movie_names"
      ],
      "execution_count": 2,
      "outputs": [
        {
          "output_type": "error",
          "ename": "NameError",
          "evalue": "ignored",
          "traceback": [
            "\u001b[0;31m---------------------------------------------------------------------------\u001b[0m",
            "\u001b[0;31mNameError\u001b[0m                                 Traceback (most recent call last)",
            "\u001b[0;32m<ipython-input-2-3fa4de03b838>\u001b[0m in \u001b[0;36m<module>\u001b[0;34m()\u001b[0m\n\u001b[1;32m      3\u001b[0m \u001b[0;31m# find the movie in the matrix, and retrieve the entire row\u001b[0m\u001b[0;34m\u001b[0m\u001b[0;34m\u001b[0m\u001b[0;34m\u001b[0m\u001b[0m\n\u001b[1;32m      4\u001b[0m \u001b[0;31m# each element in the row is pairwise cosine similarity with the input movie\u001b[0m\u001b[0;34m\u001b[0m\u001b[0;34m\u001b[0m\u001b[0;34m\u001b[0m\u001b[0m\n\u001b[0;32m----> 5\u001b[0;31m \u001b[0mrow_number\u001b[0m\u001b[0;34m=\u001b[0m\u001b[0mmetadata\u001b[0m\u001b[0;34m[\u001b[0m\u001b[0mmetadata\u001b[0m\u001b[0;34m[\u001b[0m\u001b[0;34m'Title'\u001b[0m\u001b[0;34m]\u001b[0m \u001b[0;34m==\u001b[0m \u001b[0minput_title\u001b[0m\u001b[0;34m]\u001b[0m\u001b[0;34m.\u001b[0m\u001b[0mindex\u001b[0m\u001b[0;34m\u001b[0m\u001b[0;34m\u001b[0m\u001b[0m\n\u001b[0m\u001b[1;32m      6\u001b[0m \u001b[0;31m# give the entire list an index\u001b[0m\u001b[0;34m\u001b[0m\u001b[0;34m\u001b[0m\u001b[0;34m\u001b[0m\u001b[0m\n\u001b[1;32m      7\u001b[0m \u001b[0mrankings\u001b[0m\u001b[0;34m=\u001b[0m\u001b[0mlist\u001b[0m\u001b[0;34m(\u001b[0m\u001b[0menumerate\u001b[0m\u001b[0;34m(\u001b[0m\u001b[0mcos_sim\u001b[0m\u001b[0;34m[\u001b[0m\u001b[0mrow_number\u001b[0m\u001b[0;34m]\u001b[0m\u001b[0;34m[\u001b[0m\u001b[0;36m0\u001b[0m\u001b[0;34m]\u001b[0m\u001b[0;34m)\u001b[0m\u001b[0;34m)\u001b[0m\u001b[0;34m\u001b[0m\u001b[0;34m\u001b[0m\u001b[0m\n",
            "\u001b[0;31mNameError\u001b[0m: name 'metadata' is not defined"
          ]
        }
      ]
    },
    {
      "cell_type": "markdown",
      "metadata": {
        "id": "EkLuYrMG0b2G"
      },
      "source": [
        "# Manually explore some similar movies:"
      ]
    },
    {
      "cell_type": "code",
      "metadata": {
        "colab": {
          "base_uri": "https://localhost:8080/"
        },
        "id": "ImkMlp8LxG2D",
        "outputId": "4ee0ab9b-10f6-4b42-cbc2-6783b09d421e"
      },
      "source": [
        "metadata['Origin/Ethnicity'].value_counts()"
      ],
      "execution_count": null,
      "outputs": [
        {
          "output_type": "execute_result",
          "data": {
            "text/plain": [
              "Tamil           1662\n",
              "Telugu          1311\n",
              "Japanese        1188\n",
              "South_Korean     522\n",
              "Russian          232\n",
              "Turkish           70\n",
              "Malaysian         70\n",
              "Maldivian          2\n",
              "Name: Origin/Ethnicity, dtype: int64"
            ]
          },
          "metadata": {
            "tags": []
          },
          "execution_count": 166
        }
      ]
    },
    {
      "cell_type": "code",
      "metadata": {
        "colab": {
          "base_uri": "https://localhost:8080/",
          "height": 1000
        },
        "id": "1vqhzsGUxGzd",
        "outputId": "e25ed441-eadc-4b45-84c9-43738e4a519b"
      },
      "source": [
        "metadata[metadata['Origin/Ethnicity']=='South_Korean']"
      ],
      "execution_count": null,
      "outputs": [
        {
          "output_type": "execute_result",
          "data": {
            "text/html": [
              "<div>\n",
              "<style scoped>\n",
              "    .dataframe tbody tr th:only-of-type {\n",
              "        vertical-align: middle;\n",
              "    }\n",
              "\n",
              "    .dataframe tbody tr th {\n",
              "        vertical-align: top;\n",
              "    }\n",
              "\n",
              "    .dataframe thead th {\n",
              "        text-align: right;\n",
              "    }\n",
              "</style>\n",
              "<table border=\"1\" class=\"dataframe\">\n",
              "  <thead>\n",
              "    <tr style=\"text-align: right;\">\n",
              "      <th></th>\n",
              "      <th>Release Year</th>\n",
              "      <th>Title</th>\n",
              "      <th>Origin/Ethnicity</th>\n",
              "      <th>Director</th>\n",
              "      <th>Genre</th>\n",
              "      <th>Wiki Page</th>\n",
              "      <th>Plot</th>\n",
              "      <th>Temporary</th>\n",
              "      <th>Title_and_plot</th>\n",
              "    </tr>\n",
              "  </thead>\n",
              "  <tbody>\n",
              "    <tr>\n",
              "      <th>4468</th>\n",
              "      <td>1947</td>\n",
              "      <td>Arirang</td>\n",
              "      <td>South_Korean</td>\n",
              "      <td>Na Woon-gyu</td>\n",
              "      <td>drama</td>\n",
              "      <td>https://en.wikipedia.org/wiki/Arirang_(1926_film)</td>\n",
              "      <td>Yeong-jin is a student who has become mentally...</td>\n",
              "      <td>1947Na Woon-gyuArirang</td>\n",
              "      <td>Arirang Yeong-jin is a student who has become ...</td>\n",
              "    </tr>\n",
              "    <tr>\n",
              "      <th>4469</th>\n",
              "      <td>1947</td>\n",
              "      <td>Nongjungjo</td>\n",
              "      <td>South_Korean</td>\n",
              "      <td>Lee Gyu-seol</td>\n",
              "      <td>melodrama</td>\n",
              "      <td>https://en.wikipedia.org/wiki/Nongjungjo</td>\n",
              "      <td>The story is a melodrama concerning two lovers...</td>\n",
              "      <td>1947Lee Gyu-seolNongjungjo</td>\n",
              "      <td>Nongjungjo The story is a melodrama concerning...</td>\n",
              "    </tr>\n",
              "    <tr>\n",
              "      <th>4470</th>\n",
              "      <td>1947</td>\n",
              "      <td>Soldier of Fortune</td>\n",
              "      <td>South_Korean</td>\n",
              "      <td>Na Woon-gyu</td>\n",
              "      <td>melodrama</td>\n",
              "      <td>https://en.wikipedia.org/wiki/Punguna</td>\n",
              "      <td>In Punguna, Na Woon-gyu plays the role of Nico...</td>\n",
              "      <td>1947Na Woon-gyuSoldier of Fortune</td>\n",
              "      <td>Soldier of Fortune In Punguna, Na Woon-gyu pla...</td>\n",
              "    </tr>\n",
              "    <tr>\n",
              "      <th>4471</th>\n",
              "      <td>1947</td>\n",
              "      <td>Deuljwi</td>\n",
              "      <td>South_Korean</td>\n",
              "      <td>Na Woon-gyu</td>\n",
              "      <td>melodrama</td>\n",
              "      <td>https://en.wikipedia.org/wiki/Deuljwi</td>\n",
              "      <td>The plot concerns a young couple who have made...</td>\n",
              "      <td>1947Na Woon-gyuDeuljwi</td>\n",
              "      <td>Deuljwi The plot concerns a young couple who h...</td>\n",
              "    </tr>\n",
              "    <tr>\n",
              "      <th>4472</th>\n",
              "      <td>1947</td>\n",
              "      <td>Farewell</td>\n",
              "      <td>South_Korean</td>\n",
              "      <td>Na Woon-gyu</td>\n",
              "      <td>drama</td>\n",
              "      <td>https://en.wikipedia.org/wiki/Jalitgeola</td>\n",
              "      <td>This film is a melodrama telling a story of gr...</td>\n",
              "      <td>1947Na Woon-gyuFarewell</td>\n",
              "      <td>Farewell This film is a melodrama telling a st...</td>\n",
              "    </tr>\n",
              "    <tr>\n",
              "      <th>...</th>\n",
              "      <td>...</td>\n",
              "      <td>...</td>\n",
              "      <td>...</td>\n",
              "      <td>...</td>\n",
              "      <td>...</td>\n",
              "      <td>...</td>\n",
              "      <td>...</td>\n",
              "      <td>...</td>\n",
              "      <td>...</td>\n",
              "    </tr>\n",
              "    <tr>\n",
              "      <th>4985</th>\n",
              "      <td>2017</td>\n",
              "      <td>The Swindlers</td>\n",
              "      <td>South_Korean</td>\n",
              "      <td>Jang Chang-won</td>\n",
              "      <td>unknown</td>\n",
              "      <td>https://en.wikipedia.org/wiki/The_Swindlers_(2...</td>\n",
              "      <td>A con artist who had been reported dead after ...</td>\n",
              "      <td>2017Jang Chang-wonThe Swindlers</td>\n",
              "      <td>The Swindlers A con artist who had been report...</td>\n",
              "    </tr>\n",
              "    <tr>\n",
              "      <th>4986</th>\n",
              "      <td>2017</td>\n",
              "      <td>Forgotten</td>\n",
              "      <td>South_Korean</td>\n",
              "      <td>Jang Hang-jun</td>\n",
              "      <td>unknown</td>\n",
              "      <td>https://en.wikipedia.org/wiki/Forgotten_(2017_...</td>\n",
              "      <td>A man loses his memory after being kidnapped f...</td>\n",
              "      <td>2017Jang Hang-junForgotten</td>\n",
              "      <td>Forgotten A man loses his memory after being k...</td>\n",
              "    </tr>\n",
              "    <tr>\n",
              "      <th>4987</th>\n",
              "      <td>2017</td>\n",
              "      <td>Steel Rain</td>\n",
              "      <td>South_Korean</td>\n",
              "      <td>Yang Woo-suk</td>\n",
              "      <td>unknown</td>\n",
              "      <td>https://en.wikipedia.org/wiki/Steel_Rain</td>\n",
              "      <td>A former agent from the North Korean intellige...</td>\n",
              "      <td>2017Yang Woo-sukSteel Rain</td>\n",
              "      <td>Steel Rain A former agent from the North Korea...</td>\n",
              "    </tr>\n",
              "    <tr>\n",
              "      <th>4988</th>\n",
              "      <td>2017</td>\n",
              "      <td>Along With the Gods: The Two Worlds</td>\n",
              "      <td>South_Korean</td>\n",
              "      <td>Kim Yong-hwa</td>\n",
              "      <td>unknown</td>\n",
              "      <td>https://en.wikipedia.org/wiki/Along_With_the_G...</td>\n",
              "      <td>Story of the death of an ordinary fireman name...</td>\n",
              "      <td>2017Kim Yong-hwaAlong With the Gods: The Two W...</td>\n",
              "      <td>Along With the Gods: The Two Worlds Story of t...</td>\n",
              "    </tr>\n",
              "    <tr>\n",
              "      <th>4989</th>\n",
              "      <td>2017</td>\n",
              "      <td>1987: When the Day Comes</td>\n",
              "      <td>South_Korean</td>\n",
              "      <td>Jang Joon-hwan</td>\n",
              "      <td>unknown</td>\n",
              "      <td>https://en.wikipedia.org/wiki/1987:_When_the_D...</td>\n",
              "      <td>Based on real life events surrounding the June...</td>\n",
              "      <td>2017Jang Joon-hwan1987: When the Day Comes</td>\n",
              "      <td>1987: When the Day Comes Based on real life ev...</td>\n",
              "    </tr>\n",
              "  </tbody>\n",
              "</table>\n",
              "<p>522 rows × 9 columns</p>\n",
              "</div>"
            ],
            "text/plain": [
              "     Release Year  ...                                     Title_and_plot\n",
              "4468         1947  ...  Arirang Yeong-jin is a student who has become ...\n",
              "4469         1947  ...  Nongjungjo The story is a melodrama concerning...\n",
              "4470         1947  ...  Soldier of Fortune In Punguna, Na Woon-gyu pla...\n",
              "4471         1947  ...  Deuljwi The plot concerns a young couple who h...\n",
              "4472         1947  ...  Farewell This film is a melodrama telling a st...\n",
              "...           ...  ...                                                ...\n",
              "4985         2017  ...  The Swindlers A con artist who had been report...\n",
              "4986         2017  ...  Forgotten A man loses his memory after being k...\n",
              "4987         2017  ...  Steel Rain A former agent from the North Korea...\n",
              "4988         2017  ...  Along With the Gods: The Two Worlds Story of t...\n",
              "4989         2017  ...  1987: When the Day Comes Based on real life ev...\n",
              "\n",
              "[522 rows x 9 columns]"
            ]
          },
          "metadata": {
            "tags": []
          },
          "execution_count": 167
        }
      ]
    },
    {
      "cell_type": "code",
      "metadata": {
        "colab": {
          "base_uri": "https://localhost:8080/",
          "height": 221
        },
        "id": "UXshoGMdxGw3",
        "outputId": "48d46de0-2f26-46d6-e48a-11d2db4b2444"
      },
      "source": [
        "metadata[metadata['Title']=='Santa Barbara']"
      ],
      "execution_count": null,
      "outputs": [
        {
          "output_type": "execute_result",
          "data": {
            "text/html": [
              "<div>\n",
              "<style scoped>\n",
              "    .dataframe tbody tr th:only-of-type {\n",
              "        vertical-align: middle;\n",
              "    }\n",
              "\n",
              "    .dataframe tbody tr th {\n",
              "        vertical-align: top;\n",
              "    }\n",
              "\n",
              "    .dataframe thead th {\n",
              "        text-align: right;\n",
              "    }\n",
              "</style>\n",
              "<table border=\"1\" class=\"dataframe\">\n",
              "  <thead>\n",
              "    <tr style=\"text-align: right;\">\n",
              "      <th></th>\n",
              "      <th>Release Year</th>\n",
              "      <th>Title</th>\n",
              "      <th>Origin/Ethnicity</th>\n",
              "      <th>Director</th>\n",
              "      <th>Cast</th>\n",
              "      <th>Genre</th>\n",
              "      <th>Wiki Page</th>\n",
              "      <th>Plot</th>\n",
              "      <th>Unnamed: 8</th>\n",
              "    </tr>\n",
              "  </thead>\n",
              "  <tbody>\n",
              "    <tr>\n",
              "      <th>4839</th>\n",
              "      <td>2014</td>\n",
              "      <td>Santa Barbara</td>\n",
              "      <td>South_Korean</td>\n",
              "      <td>David Cho</td>\n",
              "      <td>Lee Sang-yoon, Yoon Jin-seo</td>\n",
              "      <td>unknown</td>\n",
              "      <td>https://en.wikipedia.org/wiki/Santa_Barbara_(f...</td>\n",
              "      <td>Jung-woo is a naïve music director of film and...</td>\n",
              "      <td>NaN</td>\n",
              "    </tr>\n",
              "  </tbody>\n",
              "</table>\n",
              "</div>"
            ],
            "text/plain": [
              "     Release Year  ... Unnamed: 8\n",
              "4839         2014  ...        NaN\n",
              "\n",
              "[1 rows x 9 columns]"
            ]
          },
          "metadata": {
            "tags": []
          },
          "execution_count": 172
        }
      ]
    },
    {
      "cell_type": "code",
      "metadata": {
        "id": "dLWLzggrxGoK"
      },
      "source": [
        ""
      ],
      "execution_count": null,
      "outputs": []
    },
    {
      "cell_type": "markdown",
      "metadata": {
        "id": "jfsOUQ1uohSC"
      },
      "source": [
        "Conclusion\n",
        "To imporve accuracy, we may\n",
        "1. Using web scraping to collect those missing Cast and Genre.\n",
        "2. Add release year, origin, director, cast, genre into the feature matrix, then find the similarity ranking"
      ]
    }
  ]
}