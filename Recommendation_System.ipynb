{
  "nbformat": 4,
  "nbformat_minor": 0,
  "metadata": {
    "colab": {
      "name": "Recommendation System.ipynb",
      "provenance": [],
      "collapsed_sections": [],
      "authorship_tag": "ABX9TyM6nNSBJyIq6OT6jjJuJLYH",
      "include_colab_link": true
    },
    "kernelspec": {
      "name": "python3",
      "display_name": "Python 3"
    }
  },
  "cells": [
    {
      "cell_type": "markdown",
      "metadata": {
        "id": "view-in-github",
        "colab_type": "text"
      },
      "source": [
        "<a href=\"https://colab.research.google.com/github/terryliu1993/-Recommendation-System-Movie-Recommendation-Engine/blob/main/Recommendation_System.ipynb\" target=\"_parent\"><img src=\"https://colab.research.google.com/assets/colab-badge.svg\" alt=\"Open In Colab\"/></a>"
      ]
    },
    {
      "cell_type": "code",
      "metadata": {
        "colab": {
          "base_uri": "https://localhost:8080/"
        },
        "id": "Che-fQQP0AyU",
        "outputId": "e29c3f4c-c40d-45f4-c256-fd71aaa451d9"
      },
      "source": [
        "import pandas as pd#\n",
        "import numpy as np#\n",
        "from sklearn.model_selection import train_test_split\n",
        "from sklearn.preprocessing import StandardScaler\n",
        "import seaborn as sns\n",
        "import matplotlib.pyplot as plt\n",
        "import nltk #\n",
        "import re #\n",
        "nltk.download('punkt') #\n",
        "from nltk.stem.snowball import SnowballStemmer#\n",
        "from sklearn.feature_extraction.text import TfidfVectorizer #\n",
        "\n",
        "from sklearn.metrics.pairwise import linear_kernel #\n"
      ],
      "execution_count": 3,
      "outputs": [
        {
          "output_type": "stream",
          "text": [
            "[nltk_data] Downloading package punkt to /root/nltk_data...\n",
            "[nltk_data]   Package punkt is already up-to-date!\n"
          ],
          "name": "stdout"
        }
      ]
    },
    {
      "cell_type": "code",
      "metadata": {
        "colab": {
          "resources": {
            "http://localhost:8080/nbextensions/google.colab/files.js": {
              "data": "Ly8gQ29weXJpZ2h0IDIwMTcgR29vZ2xlIExMQwovLwovLyBMaWNlbnNlZCB1bmRlciB0aGUgQXBhY2hlIExpY2Vuc2UsIFZlcnNpb24gMi4wICh0aGUgIkxpY2Vuc2UiKTsKLy8geW91IG1heSBub3QgdXNlIHRoaXMgZmlsZSBleGNlcHQgaW4gY29tcGxpYW5jZSB3aXRoIHRoZSBMaWNlbnNlLgovLyBZb3UgbWF5IG9idGFpbiBhIGNvcHkgb2YgdGhlIExpY2Vuc2UgYXQKLy8KLy8gICAgICBodHRwOi8vd3d3LmFwYWNoZS5vcmcvbGljZW5zZXMvTElDRU5TRS0yLjAKLy8KLy8gVW5sZXNzIHJlcXVpcmVkIGJ5IGFwcGxpY2FibGUgbGF3IG9yIGFncmVlZCB0byBpbiB3cml0aW5nLCBzb2Z0d2FyZQovLyBkaXN0cmlidXRlZCB1bmRlciB0aGUgTGljZW5zZSBpcyBkaXN0cmlidXRlZCBvbiBhbiAiQVMgSVMiIEJBU0lTLAovLyBXSVRIT1VUIFdBUlJBTlRJRVMgT1IgQ09ORElUSU9OUyBPRiBBTlkgS0lORCwgZWl0aGVyIGV4cHJlc3Mgb3IgaW1wbGllZC4KLy8gU2VlIHRoZSBMaWNlbnNlIGZvciB0aGUgc3BlY2lmaWMgbGFuZ3VhZ2UgZ292ZXJuaW5nIHBlcm1pc3Npb25zIGFuZAovLyBsaW1pdGF0aW9ucyB1bmRlciB0aGUgTGljZW5zZS4KCi8qKgogKiBAZmlsZW92ZXJ2aWV3IEhlbHBlcnMgZm9yIGdvb2dsZS5jb2xhYiBQeXRob24gbW9kdWxlLgogKi8KKGZ1bmN0aW9uKHNjb3BlKSB7CmZ1bmN0aW9uIHNwYW4odGV4dCwgc3R5bGVBdHRyaWJ1dGVzID0ge30pIHsKICBjb25zdCBlbGVtZW50ID0gZG9jdW1lbnQuY3JlYXRlRWxlbWVudCgnc3BhbicpOwogIGVsZW1lbnQudGV4dENvbnRlbnQgPSB0ZXh0OwogIGZvciAoY29uc3Qga2V5IG9mIE9iamVjdC5rZXlzKHN0eWxlQXR0cmlidXRlcykpIHsKICAgIGVsZW1lbnQuc3R5bGVba2V5XSA9IHN0eWxlQXR0cmlidXRlc1trZXldOwogIH0KICByZXR1cm4gZWxlbWVudDsKfQoKLy8gTWF4IG51bWJlciBvZiBieXRlcyB3aGljaCB3aWxsIGJlIHVwbG9hZGVkIGF0IGEgdGltZS4KY29uc3QgTUFYX1BBWUxPQURfU0laRSA9IDEwMCAqIDEwMjQ7CgpmdW5jdGlvbiBfdXBsb2FkRmlsZXMoaW5wdXRJZCwgb3V0cHV0SWQpIHsKICBjb25zdCBzdGVwcyA9IHVwbG9hZEZpbGVzU3RlcChpbnB1dElkLCBvdXRwdXRJZCk7CiAgY29uc3Qgb3V0cHV0RWxlbWVudCA9IGRvY3VtZW50LmdldEVsZW1lbnRCeUlkKG91dHB1dElkKTsKICAvLyBDYWNoZSBzdGVwcyBvbiB0aGUgb3V0cHV0RWxlbWVudCB0byBtYWtlIGl0IGF2YWlsYWJsZSBmb3IgdGhlIG5leHQgY2FsbAogIC8vIHRvIHVwbG9hZEZpbGVzQ29udGludWUgZnJvbSBQeXRob24uCiAgb3V0cHV0RWxlbWVudC5zdGVwcyA9IHN0ZXBzOwoKICByZXR1cm4gX3VwbG9hZEZpbGVzQ29udGludWUob3V0cHV0SWQpOwp9CgovLyBUaGlzIGlzIHJvdWdobHkgYW4gYXN5bmMgZ2VuZXJhdG9yIChub3Qgc3VwcG9ydGVkIGluIHRoZSBicm93c2VyIHlldCksCi8vIHdoZXJlIHRoZXJlIGFyZSBtdWx0aXBsZSBhc3luY2hyb25vdXMgc3RlcHMgYW5kIHRoZSBQeXRob24gc2lkZSBpcyBnb2luZwovLyB0byBwb2xsIGZvciBjb21wbGV0aW9uIG9mIGVhY2ggc3RlcC4KLy8gVGhpcyB1c2VzIGEgUHJvbWlzZSB0byBibG9jayB0aGUgcHl0aG9uIHNpZGUgb24gY29tcGxldGlvbiBvZiBlYWNoIHN0ZXAsCi8vIHRoZW4gcGFzc2VzIHRoZSByZXN1bHQgb2YgdGhlIHByZXZpb3VzIHN0ZXAgYXMgdGhlIGlucHV0IHRvIHRoZSBuZXh0IHN0ZXAuCmZ1bmN0aW9uIF91cGxvYWRGaWxlc0NvbnRpbnVlKG91dHB1dElkKSB7CiAgY29uc3Qgb3V0cHV0RWxlbWVudCA9IGRvY3VtZW50LmdldEVsZW1lbnRCeUlkKG91dHB1dElkKTsKICBjb25zdCBzdGVwcyA9IG91dHB1dEVsZW1lbnQuc3RlcHM7CgogIGNvbnN0IG5leHQgPSBzdGVwcy5uZXh0KG91dHB1dEVsZW1lbnQubGFzdFByb21pc2VWYWx1ZSk7CiAgcmV0dXJuIFByb21pc2UucmVzb2x2ZShuZXh0LnZhbHVlLnByb21pc2UpLnRoZW4oKHZhbHVlKSA9PiB7CiAgICAvLyBDYWNoZSB0aGUgbGFzdCBwcm9taXNlIHZhbHVlIHRvIG1ha2UgaXQgYXZhaWxhYmxlIHRvIHRoZSBuZXh0CiAgICAvLyBzdGVwIG9mIHRoZSBnZW5lcmF0b3IuCiAgICBvdXRwdXRFbGVtZW50Lmxhc3RQcm9taXNlVmFsdWUgPSB2YWx1ZTsKICAgIHJldHVybiBuZXh0LnZhbHVlLnJlc3BvbnNlOwogIH0pOwp9CgovKioKICogR2VuZXJhdG9yIGZ1bmN0aW9uIHdoaWNoIGlzIGNhbGxlZCBiZXR3ZWVuIGVhY2ggYXN5bmMgc3RlcCBvZiB0aGUgdXBsb2FkCiAqIHByb2Nlc3MuCiAqIEBwYXJhbSB7c3RyaW5nfSBpbnB1dElkIEVsZW1lbnQgSUQgb2YgdGhlIGlucHV0IGZpbGUgcGlja2VyIGVsZW1lbnQuCiAqIEBwYXJhbSB7c3RyaW5nfSBvdXRwdXRJZCBFbGVtZW50IElEIG9mIHRoZSBvdXRwdXQgZGlzcGxheS4KICogQHJldHVybiB7IUl0ZXJhYmxlPCFPYmplY3Q+fSBJdGVyYWJsZSBvZiBuZXh0IHN0ZXBzLgogKi8KZnVuY3Rpb24qIHVwbG9hZEZpbGVzU3RlcChpbnB1dElkLCBvdXRwdXRJZCkgewogIGNvbnN0IGlucHV0RWxlbWVudCA9IGRvY3VtZW50LmdldEVsZW1lbnRCeUlkKGlucHV0SWQpOwogIGlucHV0RWxlbWVudC5kaXNhYmxlZCA9IGZhbHNlOwoKICBjb25zdCBvdXRwdXRFbGVtZW50ID0gZG9jdW1lbnQuZ2V0RWxlbWVudEJ5SWQob3V0cHV0SWQpOwogIG91dHB1dEVsZW1lbnQuaW5uZXJIVE1MID0gJyc7CgogIGNvbnN0IHBpY2tlZFByb21pc2UgPSBuZXcgUHJvbWlzZSgocmVzb2x2ZSkgPT4gewogICAgaW5wdXRFbGVtZW50LmFkZEV2ZW50TGlzdGVuZXIoJ2NoYW5nZScsIChlKSA9PiB7CiAgICAgIHJlc29sdmUoZS50YXJnZXQuZmlsZXMpOwogICAgfSk7CiAgfSk7CgogIGNvbnN0IGNhbmNlbCA9IGRvY3VtZW50LmNyZWF0ZUVsZW1lbnQoJ2J1dHRvbicpOwogIGlucHV0RWxlbWVudC5wYXJlbnRFbGVtZW50LmFwcGVuZENoaWxkKGNhbmNlbCk7CiAgY2FuY2VsLnRleHRDb250ZW50ID0gJ0NhbmNlbCB1cGxvYWQnOwogIGNvbnN0IGNhbmNlbFByb21pc2UgPSBuZXcgUHJvbWlzZSgocmVzb2x2ZSkgPT4gewogICAgY2FuY2VsLm9uY2xpY2sgPSAoKSA9PiB7CiAgICAgIHJlc29sdmUobnVsbCk7CiAgICB9OwogIH0pOwoKICAvLyBXYWl0IGZvciB0aGUgdXNlciB0byBwaWNrIHRoZSBmaWxlcy4KICBjb25zdCBmaWxlcyA9IHlpZWxkIHsKICAgIHByb21pc2U6IFByb21pc2UucmFjZShbcGlja2VkUHJvbWlzZSwgY2FuY2VsUHJvbWlzZV0pLAogICAgcmVzcG9uc2U6IHsKICAgICAgYWN0aW9uOiAnc3RhcnRpbmcnLAogICAgfQogIH07CgogIGNhbmNlbC5yZW1vdmUoKTsKCiAgLy8gRGlzYWJsZSB0aGUgaW5wdXQgZWxlbWVudCBzaW5jZSBmdXJ0aGVyIHBpY2tzIGFyZSBub3QgYWxsb3dlZC4KICBpbnB1dEVsZW1lbnQuZGlzYWJsZWQgPSB0cnVlOwoKICBpZiAoIWZpbGVzKSB7CiAgICByZXR1cm4gewogICAgICByZXNwb25zZTogewogICAgICAgIGFjdGlvbjogJ2NvbXBsZXRlJywKICAgICAgfQogICAgfTsKICB9CgogIGZvciAoY29uc3QgZmlsZSBvZiBmaWxlcykgewogICAgY29uc3QgbGkgPSBkb2N1bWVudC5jcmVhdGVFbGVtZW50KCdsaScpOwogICAgbGkuYXBwZW5kKHNwYW4oZmlsZS5uYW1lLCB7Zm9udFdlaWdodDogJ2JvbGQnfSkpOwogICAgbGkuYXBwZW5kKHNwYW4oCiAgICAgICAgYCgke2ZpbGUudHlwZSB8fCAnbi9hJ30pIC0gJHtmaWxlLnNpemV9IGJ5dGVzLCBgICsKICAgICAgICBgbGFzdCBtb2RpZmllZDogJHsKICAgICAgICAgICAgZmlsZS5sYXN0TW9kaWZpZWREYXRlID8gZmlsZS5sYXN0TW9kaWZpZWREYXRlLnRvTG9jYWxlRGF0ZVN0cmluZygpIDoKICAgICAgICAgICAgICAgICAgICAgICAgICAgICAgICAgICAgJ24vYSd9IC0gYCkpOwogICAgY29uc3QgcGVyY2VudCA9IHNwYW4oJzAlIGRvbmUnKTsKICAgIGxpLmFwcGVuZENoaWxkKHBlcmNlbnQpOwoKICAgIG91dHB1dEVsZW1lbnQuYXBwZW5kQ2hpbGQobGkpOwoKICAgIGNvbnN0IGZpbGVEYXRhUHJvbWlzZSA9IG5ldyBQcm9taXNlKChyZXNvbHZlKSA9PiB7CiAgICAgIGNvbnN0IHJlYWRlciA9IG5ldyBGaWxlUmVhZGVyKCk7CiAgICAgIHJlYWRlci5vbmxvYWQgPSAoZSkgPT4gewogICAgICAgIHJlc29sdmUoZS50YXJnZXQucmVzdWx0KTsKICAgICAgfTsKICAgICAgcmVhZGVyLnJlYWRBc0FycmF5QnVmZmVyKGZpbGUpOwogICAgfSk7CiAgICAvLyBXYWl0IGZvciB0aGUgZGF0YSB0byBiZSByZWFkeS4KICAgIGxldCBmaWxlRGF0YSA9IHlpZWxkIHsKICAgICAgcHJvbWlzZTogZmlsZURhdGFQcm9taXNlLAogICAgICByZXNwb25zZTogewogICAgICAgIGFjdGlvbjogJ2NvbnRpbnVlJywKICAgICAgfQogICAgfTsKCiAgICAvLyBVc2UgYSBjaHVua2VkIHNlbmRpbmcgdG8gYXZvaWQgbWVzc2FnZSBzaXplIGxpbWl0cy4gU2VlIGIvNjIxMTU2NjAuCiAgICBsZXQgcG9zaXRpb24gPSAwOwogICAgd2hpbGUgKHBvc2l0aW9uIDwgZmlsZURhdGEuYnl0ZUxlbmd0aCkgewogICAgICBjb25zdCBsZW5ndGggPSBNYXRoLm1pbihmaWxlRGF0YS5ieXRlTGVuZ3RoIC0gcG9zaXRpb24sIE1BWF9QQVlMT0FEX1NJWkUpOwogICAgICBjb25zdCBjaHVuayA9IG5ldyBVaW50OEFycmF5KGZpbGVEYXRhLCBwb3NpdGlvbiwgbGVuZ3RoKTsKICAgICAgcG9zaXRpb24gKz0gbGVuZ3RoOwoKICAgICAgY29uc3QgYmFzZTY0ID0gYnRvYShTdHJpbmcuZnJvbUNoYXJDb2RlLmFwcGx5KG51bGwsIGNodW5rKSk7CiAgICAgIHlpZWxkIHsKICAgICAgICByZXNwb25zZTogewogICAgICAgICAgYWN0aW9uOiAnYXBwZW5kJywKICAgICAgICAgIGZpbGU6IGZpbGUubmFtZSwKICAgICAgICAgIGRhdGE6IGJhc2U2NCwKICAgICAgICB9LAogICAgICB9OwogICAgICBwZXJjZW50LnRleHRDb250ZW50ID0KICAgICAgICAgIGAke01hdGgucm91bmQoKHBvc2l0aW9uIC8gZmlsZURhdGEuYnl0ZUxlbmd0aCkgKiAxMDApfSUgZG9uZWA7CiAgICB9CiAgfQoKICAvLyBBbGwgZG9uZS4KICB5aWVsZCB7CiAgICByZXNwb25zZTogewogICAgICBhY3Rpb246ICdjb21wbGV0ZScsCiAgICB9CiAgfTsKfQoKc2NvcGUuZ29vZ2xlID0gc2NvcGUuZ29vZ2xlIHx8IHt9OwpzY29wZS5nb29nbGUuY29sYWIgPSBzY29wZS5nb29nbGUuY29sYWIgfHwge307CnNjb3BlLmdvb2dsZS5jb2xhYi5fZmlsZXMgPSB7CiAgX3VwbG9hZEZpbGVzLAogIF91cGxvYWRGaWxlc0NvbnRpbnVlLAp9Owp9KShzZWxmKTsK",
              "ok": true,
              "headers": [
                [
                  "content-type",
                  "application/javascript"
                ]
              ],
              "status": 200,
              "status_text": ""
            }
          },
          "base_uri": "https://localhost:8080/",
          "height": 91
        },
        "id": "njx-U0LssNfg",
        "outputId": "3295cb19-e0ac-45a0-b422-03f07f4edcaf"
      },
      "source": [
        "# use this only if you use google colab\n",
        "from google.colab import files\n",
        "uploaded = files.upload()\n",
        "for fn in uploaded.keys():\n",
        "  print('User uploaded file \"{name}\" with length {length} bytes'.format(\n",
        "      name=fn, length=len(uploaded[fn])))"
      ],
      "execution_count": 1,
      "outputs": [
        {
          "output_type": "display_data",
          "data": {
            "text/html": [
              "\n",
              "     <input type=\"file\" id=\"files-68357d56-ddd3-4ab8-802d-41df1d064422\" name=\"files[]\" multiple disabled\n",
              "        style=\"border:none\" />\n",
              "     <output id=\"result-68357d56-ddd3-4ab8-802d-41df1d064422\">\n",
              "      Upload widget is only available when the cell has been executed in the\n",
              "      current browser session. Please rerun this cell to enable.\n",
              "      </output>\n",
              "      <script src=\"/nbextensions/google.colab/files.js\"></script> "
            ],
            "text/plain": [
              "<IPython.core.display.HTML object>"
            ]
          },
          "metadata": {
            "tags": []
          }
        },
        {
          "output_type": "stream",
          "text": [
            "Saving litedata.csv to litedata (1).csv\n",
            "User uploaded file \"litedata.csv\" with length 11090368 bytes\n"
          ],
          "name": "stdout"
        }
      ]
    },
    {
      "cell_type": "code",
      "metadata": {
        "colab": {
          "base_uri": "https://localhost:8080/",
          "height": 586
        },
        "id": "Agh0xhoTxHXL",
        "outputId": "ced786d6-6c08-4f5a-f049-edf0fff2ff8b"
      },
      "source": [
        "# metadata=pd.read_csv('wiki_movie_plots_deduped.csv',header=0)\n",
        "metadata=pd.read_csv('litedata.csv',header=0)\n",
        "metadata.head()"
      ],
      "execution_count": 4,
      "outputs": [
        {
          "output_type": "execute_result",
          "data": {
            "text/html": [
              "<div>\n",
              "<style scoped>\n",
              "    .dataframe tbody tr th:only-of-type {\n",
              "        vertical-align: middle;\n",
              "    }\n",
              "\n",
              "    .dataframe tbody tr th {\n",
              "        vertical-align: top;\n",
              "    }\n",
              "\n",
              "    .dataframe thead th {\n",
              "        text-align: right;\n",
              "    }\n",
              "</style>\n",
              "<table border=\"1\" class=\"dataframe\">\n",
              "  <thead>\n",
              "    <tr style=\"text-align: right;\">\n",
              "      <th></th>\n",
              "      <th>Release Year</th>\n",
              "      <th>Title</th>\n",
              "      <th>Origin/Ethnicity</th>\n",
              "      <th>Director</th>\n",
              "      <th>Cast</th>\n",
              "      <th>Genre</th>\n",
              "      <th>Wiki Page</th>\n",
              "      <th>Plot</th>\n",
              "      <th>Unnamed: 8</th>\n",
              "    </tr>\n",
              "  </thead>\n",
              "  <tbody>\n",
              "    <tr>\n",
              "      <th>0</th>\n",
              "      <td>1990</td>\n",
              "      <td>Idhaya Thamarai</td>\n",
              "      <td>Tamil</td>\n",
              "      <td>K. Rajeshwar</td>\n",
              "      <td>Karthik, Revathi</td>\n",
              "      <td>unknown</td>\n",
              "      <td>https://en.wikipedia.org/wiki/Idhaya_Thamarai</td>\n",
              "      <td>Vijay (Karthik) was an impulsive angry youth w...</td>\n",
              "      <td>NaN</td>\n",
              "    </tr>\n",
              "    <tr>\n",
              "      <th>1</th>\n",
              "      <td>1990</td>\n",
              "      <td>Kavalukku Kettikaran</td>\n",
              "      <td>Tamil</td>\n",
              "      <td>Santhana Bharathi</td>\n",
              "      <td>Prabhu, Nirosha</td>\n",
              "      <td>unknown</td>\n",
              "      <td>https://en.wikipedia.org/wiki/Kavalukku_Kettik...</td>\n",
              "      <td>Panjavarnam (V. K. Ramasamy) is a retired poli...</td>\n",
              "      <td>NaN</td>\n",
              "    </tr>\n",
              "    <tr>\n",
              "      <th>2</th>\n",
              "      <td>1990</td>\n",
              "      <td>Nalla Kaalam Porandaachu</td>\n",
              "      <td>Tamil</td>\n",
              "      <td>T. P. Gajendran</td>\n",
              "      <td>Prabhu, Ramya Krishnan</td>\n",
              "      <td>unknown</td>\n",
              "      <td>https://en.wikipedia.org/wiki/Nalla_Kaalam_Por...</td>\n",
              "      <td>Trying to save her blind mother (Sujatha) by a...</td>\n",
              "      <td>NaN</td>\n",
              "    </tr>\n",
              "    <tr>\n",
              "      <th>3</th>\n",
              "      <td>1990</td>\n",
              "      <td>Panakkaran</td>\n",
              "      <td>Tamil</td>\n",
              "      <td>P. Vasu</td>\n",
              "      <td>Rajinikanth, Gouthami</td>\n",
              "      <td>unknown</td>\n",
              "      <td>https://en.wikipedia.org/wiki/Panakkaran</td>\n",
              "      <td>Muthu (Rajinikanth) is a poor man who works in...</td>\n",
              "      <td>NaN</td>\n",
              "    </tr>\n",
              "    <tr>\n",
              "      <th>4</th>\n",
              "      <td>1990</td>\n",
              "      <td>Pulan Visaranai</td>\n",
              "      <td>Tamil</td>\n",
              "      <td>R. K. Selvamani</td>\n",
              "      <td>Vijayakanth, Rupini</td>\n",
              "      <td>unknown</td>\n",
              "      <td>https://en.wikipedia.org/wiki/Pulan_Visaranai</td>\n",
              "      <td>Dharma (Anandaraj) is an auto driver who kidna...</td>\n",
              "      <td>NaN</td>\n",
              "    </tr>\n",
              "  </tbody>\n",
              "</table>\n",
              "</div>"
            ],
            "text/plain": [
              "  Release Year  ... Unnamed: 8\n",
              "0         1990  ...        NaN\n",
              "1         1990  ...        NaN\n",
              "2         1990  ...        NaN\n",
              "3         1990  ...        NaN\n",
              "4         1990  ...        NaN\n",
              "\n",
              "[5 rows x 9 columns]"
            ]
          },
          "metadata": {
            "tags": []
          },
          "execution_count": 4
        }
      ]
    },
    {
      "cell_type": "markdown",
      "metadata": {
        "id": "lrejO3Rklfca"
      },
      "source": [
        "# EDA"
      ]
    },
    {
      "cell_type": "markdown",
      "metadata": {
        "id": "sKZsyZ-FmYAM"
      },
      "source": [
        "First, check an overview on the size of data, table header, check missing values"
      ]
    },
    {
      "cell_type": "code",
      "metadata": {
        "colab": {
          "base_uri": "https://localhost:8080/"
        },
        "id": "BBVJ4LBgxHVV",
        "outputId": "695c48d5-e21a-49b6-fe2a-224ea7543187"
      },
      "source": [
        "print('Shape of data: ',metadata.shape)\n",
        "print(metadata.columns)\n",
        "\n",
        "print('========================')\n",
        "print(metadata.isnull().sum())\n",
        "\n",
        "print('========================')\n",
        "print(metadata.dtypes)"
      ],
      "execution_count": 5,
      "outputs": [
        {
          "output_type": "stream",
          "text": [
            "Shape of data:  (5060, 9)\n",
            "Index(['Release Year', 'Title', 'Origin/Ethnicity', 'Director', 'Cast',\n",
            "       'Genre', 'Wiki Page', 'Plot', 'Unnamed: 8'],\n",
            "      dtype='object')\n",
            "========================\n",
            "Release Year           0\n",
            "Title                  1\n",
            "Origin/Ethnicity       1\n",
            "Director               1\n",
            "Cast                 600\n",
            "Genre                  1\n",
            "Wiki Page              1\n",
            "Plot                   1\n",
            "Unnamed: 8          5059\n",
            "dtype: int64\n",
            "========================\n",
            "Release Year        object\n",
            "Title               object\n",
            "Origin/Ethnicity    object\n",
            "Director            object\n",
            "Cast                object\n",
            "Genre               object\n",
            "Wiki Page           object\n",
            "Plot                object\n",
            "Unnamed: 8          object\n",
            "dtype: object\n"
          ],
          "name": "stdout"
        }
      ]
    },
    {
      "cell_type": "markdown",
      "metadata": {
        "id": "lS0V-5MMnBoT"
      },
      "source": [
        "There are more than 10% of records with missing Cast. When we build model, it may become a noise. thus for simplicity, in this project, we delete Cast column\n",
        "\n",
        "URL address is not our interested features on NLP model in this project, thus it's dropped.\n",
        "\n",
        "Since last column Unnamed:8 is empty, we delete it, too."
      ]
    },
    {
      "cell_type": "code",
      "metadata": {
        "colab": {
          "base_uri": "https://localhost:8080/"
        },
        "id": "0K_9apmhxHSX",
        "outputId": "65d0bd90-1892-4159-c2fe-a5a57af883f0"
      },
      "source": [
        "metadata=metadata.drop(['Wiki Page'],axis=1)\n",
        "print('New data size is ',metadata.shape)\n"
      ],
      "execution_count": 6,
      "outputs": [
        {
          "output_type": "stream",
          "text": [
            "New data size is  (5060, 8)\n"
          ],
          "name": "stdout"
        }
      ]
    },
    {
      "cell_type": "markdown",
      "metadata": {
        "id": "Pt6kiOdaxfIx"
      },
      "source": [
        "Find duplicate record.\n",
        "Since some movies may be remade many years later, thus we introduce a Temporary feature combining Release Year+Director+Title, to determine if this record is real duplicate."
      ]
    },
    {
      "cell_type": "code",
      "metadata": {
        "colab": {
          "base_uri": "https://localhost:8080/"
        },
        "id": "o2mz_AUSxejG",
        "outputId": "826d30fb-3f3d-4bde-bba5-4ec03fb764b5"
      },
      "source": [
        "# Find the true duplicates from Release Year+Director+Title\n",
        "metadata['Temporary']=metadata['Release Year'].astype(str)+metadata['Director'].astype(str)+metadata['Title'].astype(str)\n",
        "metadata['Temporary'].nunique()"
      ],
      "execution_count": 7,
      "outputs": [
        {
          "output_type": "execute_result",
          "data": {
            "text/plain": [
              "5060"
            ]
          },
          "metadata": {
            "tags": []
          },
          "execution_count": 7
        }
      ]
    },
    {
      "cell_type": "markdown",
      "metadata": {
        "id": "axPaN50VoAUo"
      },
      "source": [
        "Since the unique number is equal to the row number of metadata, we conclude there is no duplicate data."
      ]
    },
    {
      "cell_type": "code",
      "metadata": {
        "colab": {
          "base_uri": "https://localhost:8080/"
        },
        "id": "Fa1nzASFxHOp",
        "outputId": "bb6c9c0c-71f1-470e-d66f-6266849cfd2c"
      },
      "source": [
        "metadata.Genre.value_counts()"
      ],
      "execution_count": 8,
      "outputs": [
        {
          "output_type": "execute_result",
          "data": {
            "text/plain": [
              "unknown                                         2241\n",
              "drama                                            501\n",
              "action                                           281\n",
              "romance                                          256\n",
              "comedy                                           171\n",
              "                                                ... \n",
              "drama, romance, youth, sci-fi, slice of life       1\n",
              "drama-comedy-social                                1\n",
              "prabhas, trisha krishnan, charmme                  1\n",
              "drama, crime, thriller, sci-fi, action, spy        1\n",
              "youth drama                                        1\n",
              "Name: Genre, Length: 531, dtype: int64"
            ]
          },
          "metadata": {
            "tags": []
          },
          "execution_count": 8
        }
      ]
    },
    {
      "cell_type": "code",
      "metadata": {
        "colab": {
          "base_uri": "https://localhost:8080/"
        },
        "id": "PViPyGzQxHL_",
        "outputId": "85638de1-46fd-4c17-f584-22cb7db4faed"
      },
      "source": [
        "# find the length of each record\n",
        "metadata['Origin/Ethnicity'].apply(lambda x:len(str(x)))\n",
        "# remove those 2 rows with wrong information (with string length>20['Origin/Ethnicity']\n",
        "metadata=metadata[metadata['Origin/Ethnicity'].apply(lambda x:len(str(x)))<20]\n",
        "print('Data size becomes: ',metadata.shape)"
      ],
      "execution_count": 9,
      "outputs": [
        {
          "output_type": "stream",
          "text": [
            "Data size becomes:  (5058, 9)\n"
          ],
          "name": "stdout"
        }
      ]
    },
    {
      "cell_type": "markdown",
      "metadata": {
        "id": "dXk0TBcgtQlj"
      },
      "source": [
        "# The Recommendation Engine"
      ]
    },
    {
      "cell_type": "code",
      "metadata": {
        "id": "ycOS-SH0xHG-"
      },
      "source": [
        "# define a function to tokenize sentence, tokenize word, and stem words\n",
        "stemmer = SnowballStemmer(\"english\")\n",
        "def token_stem(doc):\n",
        "  # tokenize document into sentence, then tokenize sentence into words\n",
        "  tokens=[word for sent in nltk.sent_tokenize(doc) for word in nltk.word_tokenize(sent)]\n",
        "  # remove non-letter text\n",
        "  letter_only_tokens = [token for token in tokens if re.search('[a-zA-Z]', token)]\n",
        "  # stem the word token\n",
        "  stemmed_tokens=[stemmer.stem(word) for word in letter_only_tokens]\n",
        "  return stemmed_tokens"
      ],
      "execution_count": 10,
      "outputs": []
    },
    {
      "cell_type": "code",
      "metadata": {
        "colab": {
          "base_uri": "https://localhost:8080/"
        },
        "id": "m3k1sgUsxHC2",
        "outputId": "708c43ed-dadb-4ffa-8aea-892b593ffa41"
      },
      "source": [
        "# TfidfVectorizer\n",
        "tfidf=TfidfVectorizer(stop_words='english',tokenizer=token_stem,ngram_range=(1,2),decode_error='ignore',max_features=20000)\n",
        "# generate tfidf_matrix by fit and transform on plot\n",
        "tfidf_matrix=tfidf.fit_transform([plot for plot in metadata['Plot'].astype(str)])\n",
        "print('tfidf_matrix size is: ',tfidf_matrix.shape)\n",
        "\n"
      ],
      "execution_count": 11,
      "outputs": [
        {
          "output_type": "stream",
          "text": [
            "/usr/local/lib/python3.7/dist-packages/sklearn/feature_extraction/text.py:385: UserWarning: Your stop_words may be inconsistent with your preprocessing. Tokenizing the stop words generated tokens ['abov', 'afterward', 'alon', 'alreadi', 'alway', 'ani', 'anoth', 'anyon', 'anyth', 'anywher', 'becam', 'becaus', 'becom', 'befor', 'besid', 'cri', 'describ', 'dure', 'els', 'elsewher', 'empti', 'everi', 'everyon', 'everyth', 'everywher', 'fifti', 'forti', 'henc', 'hereaft', 'herebi', 'howev', 'hundr', 'inde', 'mani', 'meanwhil', 'moreov', 'nobodi', 'noon', 'noth', 'nowher', 'onc', 'onli', 'otherwis', 'ourselv', 'perhap', 'pleas', 'sever', 'sinc', 'sincer', 'sixti', 'someon', 'someth', 'sometim', 'somewher', 'themselv', 'thenc', 'thereaft', 'therebi', 'therefor', 'togeth', 'twelv', 'twenti', 'veri', 'whatev', 'whenc', 'whenev', 'wherea', 'whereaft', 'wherebi', 'wherev', 'whi', 'yourselv'] not in stop_words.\n",
            "  'stop_words.' % sorted(inconsistent))\n"
          ],
          "name": "stderr"
        },
        {
          "output_type": "stream",
          "text": [
            "tfidf_matrix size is:  (5058, 20000)\n"
          ],
          "name": "stdout"
        }
      ]
    },
    {
      "cell_type": "markdown",
      "metadata": {
        "id": "cyhz178DbvUE"
      },
      "source": [
        "# Cosine Similarity\n",
        "\n",
        "cosine_similarity= AB  /  ||A||||B||\n",
        "\n",
        "--numerator AB are dot product(element-wise product),retern a scaler \n",
        "\n",
        "--denominator ||A|| is magnitude :  sqrt(a1^2 + a2^2 + ... +an^2) \n",
        "\n",
        "--since denominator is the same for all pairwise cos_similarity across document, it's computational cheap to use linear_kernal to ONLY calculate numerator(dot product)"
      ]
    },
    {
      "cell_type": "code",
      "metadata": {
        "id": "T4Uq_mQlxG-2"
      },
      "source": [
        "# calculate pairwise cosine_similarity on tfidf_matrix\n",
        "cos_sim=linear_kernel(tfidf_matrix,tfidf_matrix)"
      ],
      "execution_count": 13,
      "outputs": []
    },
    {
      "cell_type": "code",
      "metadata": {
        "colab": {
          "base_uri": "https://localhost:8080/"
        },
        "id": "fGSADgrGxG7r",
        "outputId": "4af0e849-2d2f-4f15-853f-3b44e794ed1d"
      },
      "source": [
        "# def get_recommendation(input_title,cos_sim=cos_sim):\n",
        "input_title='Forgotten'\n",
        "# find the movie in the matrix, and retrieve the entire row\n",
        "# each element in the row is pairwise cosine similarity with the input movie\n",
        "row_number=metadata[metadata['Title'] == input_title].index\n",
        "# give the entire list an index\n",
        "rankings=list(enumerate(cos_sim[row_number][0]))\n",
        "# sort the ranking in descending order\n",
        "sorted_rankings=sorted(rankings,key=lambda x:x[1],reverse=True)\n",
        "# pick the top 10 most similar movie(with largest cosine_similarity)\n",
        "# exclude the first movie itself with cosine_similarity=1\n",
        "top_10=sorted_rankings[1:11]\n",
        "movie_id=[element[0] for element in top_10]\n",
        "movie_names=[metadata.iloc[number,1] for number in movie_id]\n",
        "movie_names"
      ],
      "execution_count": 14,
      "outputs": [
        {
          "output_type": "execute_result",
          "data": {
            "text/plain": [
              "['Santa Barbara',\n",
              " 'The Attorney',\n",
              " 'Red Carpet',\n",
              " 'Cold Eyes',\n",
              " 'Right Right',\n",
              " 'Countdown',\n",
              " 'The Third Murder',\n",
              " 'The Terror Live',\n",
              " 'City of Damnation',\n",
              " 'Love Fiction']"
            ]
          },
          "metadata": {
            "tags": []
          },
          "execution_count": 14
        }
      ]
    },
    {
      "cell_type": "markdown",
      "metadata": {
        "id": "EkLuYrMG0b2G"
      },
      "source": [
        "# Manually explore some similar movies:"
      ]
    },
    {
      "cell_type": "code",
      "metadata": {
        "colab": {
          "base_uri": "https://localhost:8080/"
        },
        "id": "ImkMlp8LxG2D",
        "outputId": "1bdaf4f1-0870-4a66-a1fb-9cd6d876142d"
      },
      "source": [
        "metadata['Origin/Ethnicity'].value_counts()"
      ],
      "execution_count": 15,
      "outputs": [
        {
          "output_type": "execute_result",
          "data": {
            "text/plain": [
              "Tamil           1662\n",
              "Telugu          1311\n",
              "Japanese        1188\n",
              "South_Korean     522\n",
              "Russian          232\n",
              "Turkish           70\n",
              "Malaysian         70\n",
              "Maldivian          2\n",
              "Name: Origin/Ethnicity, dtype: int64"
            ]
          },
          "metadata": {
            "tags": []
          },
          "execution_count": 15
        }
      ]
    },
    {
      "cell_type": "code",
      "metadata": {
        "colab": {
          "base_uri": "https://localhost:8080/",
          "height": 1000
        },
        "id": "1vqhzsGUxGzd",
        "outputId": "909c66a7-4a94-495a-9249-6658a31e4e1f"
      },
      "source": [
        "metadata[metadata['Origin/Ethnicity']=='South_Korean']"
      ],
      "execution_count": 16,
      "outputs": [
        {
          "output_type": "execute_result",
          "data": {
            "text/html": [
              "<div>\n",
              "<style scoped>\n",
              "    .dataframe tbody tr th:only-of-type {\n",
              "        vertical-align: middle;\n",
              "    }\n",
              "\n",
              "    .dataframe tbody tr th {\n",
              "        vertical-align: top;\n",
              "    }\n",
              "\n",
              "    .dataframe thead th {\n",
              "        text-align: right;\n",
              "    }\n",
              "</style>\n",
              "<table border=\"1\" class=\"dataframe\">\n",
              "  <thead>\n",
              "    <tr style=\"text-align: right;\">\n",
              "      <th></th>\n",
              "      <th>Release Year</th>\n",
              "      <th>Title</th>\n",
              "      <th>Origin/Ethnicity</th>\n",
              "      <th>Director</th>\n",
              "      <th>Cast</th>\n",
              "      <th>Genre</th>\n",
              "      <th>Plot</th>\n",
              "      <th>Unnamed: 8</th>\n",
              "      <th>Temporary</th>\n",
              "    </tr>\n",
              "  </thead>\n",
              "  <tbody>\n",
              "    <tr>\n",
              "      <th>4468</th>\n",
              "      <td>1947</td>\n",
              "      <td>Arirang</td>\n",
              "      <td>South_Korean</td>\n",
              "      <td>Na Woon-gyu</td>\n",
              "      <td>NaN</td>\n",
              "      <td>drama</td>\n",
              "      <td>Yeong-jin is a student who has become mentally...</td>\n",
              "      <td>NaN</td>\n",
              "      <td>1947Na Woon-gyuArirang</td>\n",
              "    </tr>\n",
              "    <tr>\n",
              "      <th>4469</th>\n",
              "      <td>1947</td>\n",
              "      <td>Nongjungjo</td>\n",
              "      <td>South_Korean</td>\n",
              "      <td>Lee Gyu-seol</td>\n",
              "      <td>NaN</td>\n",
              "      <td>melodrama</td>\n",
              "      <td>The story is a melodrama concerning two lovers...</td>\n",
              "      <td>NaN</td>\n",
              "      <td>1947Lee Gyu-seolNongjungjo</td>\n",
              "    </tr>\n",
              "    <tr>\n",
              "      <th>4470</th>\n",
              "      <td>1947</td>\n",
              "      <td>Soldier of Fortune</td>\n",
              "      <td>South_Korean</td>\n",
              "      <td>Na Woon-gyu</td>\n",
              "      <td>NaN</td>\n",
              "      <td>melodrama</td>\n",
              "      <td>In Punguna, Na Woon-gyu plays the role of Nico...</td>\n",
              "      <td>NaN</td>\n",
              "      <td>1947Na Woon-gyuSoldier of Fortune</td>\n",
              "    </tr>\n",
              "    <tr>\n",
              "      <th>4471</th>\n",
              "      <td>1947</td>\n",
              "      <td>Deuljwi</td>\n",
              "      <td>South_Korean</td>\n",
              "      <td>Na Woon-gyu</td>\n",
              "      <td>NaN</td>\n",
              "      <td>melodrama</td>\n",
              "      <td>The plot concerns a young couple who have made...</td>\n",
              "      <td>NaN</td>\n",
              "      <td>1947Na Woon-gyuDeuljwi</td>\n",
              "    </tr>\n",
              "    <tr>\n",
              "      <th>4472</th>\n",
              "      <td>1947</td>\n",
              "      <td>Farewell</td>\n",
              "      <td>South_Korean</td>\n",
              "      <td>Na Woon-gyu</td>\n",
              "      <td>NaN</td>\n",
              "      <td>drama</td>\n",
              "      <td>This film is a melodrama telling a story of gr...</td>\n",
              "      <td>NaN</td>\n",
              "      <td>1947Na Woon-gyuFarewell</td>\n",
              "    </tr>\n",
              "    <tr>\n",
              "      <th>...</th>\n",
              "      <td>...</td>\n",
              "      <td>...</td>\n",
              "      <td>...</td>\n",
              "      <td>...</td>\n",
              "      <td>...</td>\n",
              "      <td>...</td>\n",
              "      <td>...</td>\n",
              "      <td>...</td>\n",
              "      <td>...</td>\n",
              "    </tr>\n",
              "    <tr>\n",
              "      <th>4985</th>\n",
              "      <td>2017</td>\n",
              "      <td>The Swindlers</td>\n",
              "      <td>South_Korean</td>\n",
              "      <td>Jang Chang-won</td>\n",
              "      <td>Hyun Bin, Yoo Ji-tae, Bae Seong-woo, Park Sung...</td>\n",
              "      <td>unknown</td>\n",
              "      <td>A con artist who had been reported dead after ...</td>\n",
              "      <td>NaN</td>\n",
              "      <td>2017Jang Chang-wonThe Swindlers</td>\n",
              "    </tr>\n",
              "    <tr>\n",
              "      <th>4986</th>\n",
              "      <td>2017</td>\n",
              "      <td>Forgotten</td>\n",
              "      <td>South_Korean</td>\n",
              "      <td>Jang Hang-jun</td>\n",
              "      <td>Kang Ha-neul, Kim Mu-yeol, Moon Sung-keun, Na ...</td>\n",
              "      <td>unknown</td>\n",
              "      <td>A man loses his memory after being kidnapped f...</td>\n",
              "      <td>NaN</td>\n",
              "      <td>2017Jang Hang-junForgotten</td>\n",
              "    </tr>\n",
              "    <tr>\n",
              "      <th>4987</th>\n",
              "      <td>2017</td>\n",
              "      <td>Steel Rain</td>\n",
              "      <td>South_Korean</td>\n",
              "      <td>Yang Woo-suk</td>\n",
              "      <td>Jung Woo-sung, Kwak Do-won</td>\n",
              "      <td>unknown</td>\n",
              "      <td>A former agent from the North Korean intellige...</td>\n",
              "      <td>NaN</td>\n",
              "      <td>2017Yang Woo-sukSteel Rain</td>\n",
              "    </tr>\n",
              "    <tr>\n",
              "      <th>4988</th>\n",
              "      <td>2017</td>\n",
              "      <td>Along With the Gods: The Two Worlds</td>\n",
              "      <td>South_Korean</td>\n",
              "      <td>Kim Yong-hwa</td>\n",
              "      <td>Ha Jung-woo, Cha Tae-hyun, Kim Hyang-gi, Lee J...</td>\n",
              "      <td>unknown</td>\n",
              "      <td>Story of the death of an ordinary fireman name...</td>\n",
              "      <td>NaN</td>\n",
              "      <td>2017Kim Yong-hwaAlong With the Gods: The Two W...</td>\n",
              "    </tr>\n",
              "    <tr>\n",
              "      <th>4989</th>\n",
              "      <td>2017</td>\n",
              "      <td>1987: When the Day Comes</td>\n",
              "      <td>South_Korean</td>\n",
              "      <td>Jang Joon-hwan</td>\n",
              "      <td>Kim Yoon-seok, Ha Jung-woo, Yoo Hae-jin, Kim T...</td>\n",
              "      <td>unknown</td>\n",
              "      <td>Based on real life events surrounding the June...</td>\n",
              "      <td>NaN</td>\n",
              "      <td>2017Jang Joon-hwan1987: When the Day Comes</td>\n",
              "    </tr>\n",
              "  </tbody>\n",
              "</table>\n",
              "<p>522 rows × 9 columns</p>\n",
              "</div>"
            ],
            "text/plain": [
              "     Release Year  ...                                          Temporary\n",
              "4468         1947  ...                             1947Na Woon-gyuArirang\n",
              "4469         1947  ...                         1947Lee Gyu-seolNongjungjo\n",
              "4470         1947  ...                  1947Na Woon-gyuSoldier of Fortune\n",
              "4471         1947  ...                             1947Na Woon-gyuDeuljwi\n",
              "4472         1947  ...                            1947Na Woon-gyuFarewell\n",
              "...           ...  ...                                                ...\n",
              "4985         2017  ...                    2017Jang Chang-wonThe Swindlers\n",
              "4986         2017  ...                         2017Jang Hang-junForgotten\n",
              "4987         2017  ...                         2017Yang Woo-sukSteel Rain\n",
              "4988         2017  ...  2017Kim Yong-hwaAlong With the Gods: The Two W...\n",
              "4989         2017  ...         2017Jang Joon-hwan1987: When the Day Comes\n",
              "\n",
              "[522 rows x 9 columns]"
            ]
          },
          "metadata": {
            "tags": []
          },
          "execution_count": 16
        }
      ]
    },
    {
      "cell_type": "code",
      "metadata": {
        "colab": {
          "base_uri": "https://localhost:8080/",
          "height": 149
        },
        "id": "UXshoGMdxGw3",
        "outputId": "19d63621-afaa-4c3f-f67f-bc379d915a43"
      },
      "source": [
        "metadata[metadata['Title']=='Santa Barbara']"
      ],
      "execution_count": 17,
      "outputs": [
        {
          "output_type": "execute_result",
          "data": {
            "text/html": [
              "<div>\n",
              "<style scoped>\n",
              "    .dataframe tbody tr th:only-of-type {\n",
              "        vertical-align: middle;\n",
              "    }\n",
              "\n",
              "    .dataframe tbody tr th {\n",
              "        vertical-align: top;\n",
              "    }\n",
              "\n",
              "    .dataframe thead th {\n",
              "        text-align: right;\n",
              "    }\n",
              "</style>\n",
              "<table border=\"1\" class=\"dataframe\">\n",
              "  <thead>\n",
              "    <tr style=\"text-align: right;\">\n",
              "      <th></th>\n",
              "      <th>Release Year</th>\n",
              "      <th>Title</th>\n",
              "      <th>Origin/Ethnicity</th>\n",
              "      <th>Director</th>\n",
              "      <th>Cast</th>\n",
              "      <th>Genre</th>\n",
              "      <th>Plot</th>\n",
              "      <th>Unnamed: 8</th>\n",
              "      <th>Temporary</th>\n",
              "    </tr>\n",
              "  </thead>\n",
              "  <tbody>\n",
              "    <tr>\n",
              "      <th>4839</th>\n",
              "      <td>2014</td>\n",
              "      <td>Santa Barbara</td>\n",
              "      <td>South_Korean</td>\n",
              "      <td>David Cho</td>\n",
              "      <td>Lee Sang-yoon, Yoon Jin-seo</td>\n",
              "      <td>unknown</td>\n",
              "      <td>Jung-woo is a naïve music director of film and...</td>\n",
              "      <td>NaN</td>\n",
              "      <td>2014David ChoSanta Barbara</td>\n",
              "    </tr>\n",
              "  </tbody>\n",
              "</table>\n",
              "</div>"
            ],
            "text/plain": [
              "     Release Year          Title  ... Unnamed: 8                   Temporary\n",
              "4839         2014  Santa Barbara  ...        NaN  2014David ChoSanta Barbara\n",
              "\n",
              "[1 rows x 9 columns]"
            ]
          },
          "metadata": {
            "tags": []
          },
          "execution_count": 17
        }
      ]
    },
    {
      "cell_type": "markdown",
      "metadata": {
        "id": "jfsOUQ1uohSC"
      },
      "source": [
        "Conclusion\n",
        "To imporve accuracy, we may\n",
        "1. Using web scraping to collect those missing Cast and Genre.\n",
        "2. Add release year, origin, director, cast, genre into the feature matrix, then find the similarity ranking"
      ]
    }
  ]
}